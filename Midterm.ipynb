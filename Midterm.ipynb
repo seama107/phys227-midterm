{
 "cells": [
  {
   "cell_type": "code",
   "execution_count": 2,
   "metadata": {
    "collapsed": false
   },
   "outputs": [],
   "source": [
    "import numpy as np\n",
    "import sympy as sp\n",
    "import matplotlib.pyplot as plt\n",
    "import sys\n",
    "\n",
    "import midterm as p1"
   ]
  },
  {
   "cell_type": "markdown",
   "metadata": {},
   "source": [
    "# PHYS227 Midterm\n",
    "Michael Seaman\n",
    "3/13/16\n",
    "\n"
   ]
  },
  {
   "cell_type": "markdown",
   "metadata": {},
   "source": [
    "### Problem 1\n",
    "\n",
    "The function \"sequence(x0, r, N = 100)\" written in midterm.py implements the series given by the following recursive equation:\n",
    "\n",
    "$x_{n+1} = r x_{n}(1 - x_{n})$\n",
    "where\n",
    "$x_{0} \\in [0,1]$ and $ r \\in [2.9,4]$"
   ]
  },
  {
   "cell_type": "markdown",
   "metadata": {},
   "source": [
    "First we will investigate by varying the value of r. We will try r = 2.5, 3.2, and 3.5, using $x_{0}$ = 0.5."
   ]
  },
  {
   "cell_type": "code",
   "execution_count": 3,
   "metadata": {
    "collapsed": false
   },
   "outputs": [
    {
     "data": {
      "image/png": "[encoded data removed]",
      "text/plain": [
       "<matplotlib.figure.Figure at 0x7ff656065e50>"
      ]
     },
     "metadata": {},
     "output_type": "display_data"
    },
    {
     "data": {
      "image/png": "[encoded data removed]",
      "text/plain": [
       "<matplotlib.figure.Figure at 0x7ff61ba7e150>"
      ]
     },
     "metadata": {},
     "output_type": "display_data"
    },
    {
     "data": {
      "image/png": "[encoded data removed]",
      "text/plain": [
       "<matplotlib.figure.Figure at 0x7ff61ba27b10>"
      ]
     },
     "metadata": {},
     "output_type": "display_data"
    }
   ],
   "source": [
    "xList = np.arange(101)\n",
    "plt.plot(xList,p1.sequence(.5, 2.5),'r.')\n",
    "plt.show()\n",
    "plt.plot(xList,p1.sequence(.5, 3.2),'g.')\n",
    "plt.show()\n",
    "plt.plot(xList,p1.sequence(.5, 3.5),'b.')\n",
    "plt.show()"
   ]
  },
  {
   "cell_type": "markdown",
   "metadata": {},
   "source": [
    "With closer inspection, we can see that our first instance is entirely convergant on $x_n$  .6 until at some point, the function returns $\\approx$.6, possibly due to a rounding error (as achieving a limit in a finite amount of time seems radically non-idiomatic)."
   ]
  },
  {
   "cell_type": "code",
   "execution_count": null,
   "metadata": {
    "collapsed": false
   },
   "outputs": [],
   "source": [
    "line_at_6 = np.empty(21)\n",
    "line_at_6.fill(.6)\n",
    "plt.plot(xList[39:60],line_at_6)\n",
    "plt.plot(xList[39:60],p1.sequence(.5, 2.5)[39:60],'r.')\n",
    "plt.show()\n",
    "print \"x(45)  = {:.20e}\".format(p1.sequence(.5,2.5)[45])\n",
    "print \"x(48)  = {:.20e}\".format(p1.sequence(.5,2.5)[48])\n",
    "print \"x(49)  = {:.20e}\".format(p1.sequence(.5,2.5)[49])\n",
    "print \"x(50)  = {:.20e}\".format(p1.sequence(.5,2.5)[50])\n",
    "print \"x(51)  = {:.20e}\".format(p1.sequence(.5,2.5)[51])"
   ]
  },
  {
   "cell_type": "markdown",
   "metadata": {},
   "source": [
    "The other two values of r, however, do not converge at all (or if they do, they have multiple different limits). What's interesting is that both seem to have a different period before their values repeat.\n",
    "Now, we try varying $x_0$, trying values $x_0$ = .25 and $x_0$ = .75 for each case above."
   ]
  },
  {
   "cell_type": "code",
   "execution_count": null,
   "metadata": {
    "collapsed": false
   },
   "outputs": [],
   "source": [
    "#First, x0 = .25\n",
    "plt.plot(xList,p1.sequence(.25, 2.5),'r.')\n",
    "plt.show()\n",
    "plt.plot(xList,p1.sequence(.25, 3.2),'g.')\n",
    "plt.show()\n",
    "plt.plot(xList,p1.sequence(.25, 3.5),'b.')\n",
    "plt.show()"
   ]
  },
  {
   "cell_type": "code",
   "execution_count": null,
   "metadata": {
    "collapsed": false
   },
   "outputs": [],
   "source": [
    "#Then, x0 = .75\n",
    "plt.plot(xList,p1.sequence(.75, 2.5),'r.')\n",
    "plt.show()\n",
    "plt.plot(xList,p1.sequence(.75, 3.2),'g.')\n",
    "plt.show()\n",
    "plt.plot(xList,p1.sequence(.75, 3.5),'b.')\n",
    "plt.show()"
   ]
  },
  {
   "cell_type": "markdown",
   "metadata": {},
   "source": [
    "Interesting. It seems that the two different values of $x_0$ have returned us the same sequences. This is probably due to the fact that the sequence's next element scales with $(1-x_{n-1})$, and because (1-.75) = .25, the two sequences ended up the same. If that's the case, then this should work for  $x_0$ = .2 and $x_0$ = .8 as well."
   ]
  },
  {
   "cell_type": "code",
   "execution_count": null,
   "metadata": {
    "collapsed": false
   },
   "outputs": [],
   "source": [
    "#This time, just using the 1st graph\n",
    "#for x0 = .2\n",
    "plt.plot(xList,p1.sequence(.2, 3.5),'b.')\n",
    "plt.show()\n",
    "#for x0 = .8\n",
    "plt.plot(xList,p1.sequence(.8, 3.5),'r.')\n",
    "plt.show()"
   ]
  },
  {
   "cell_type": "markdown",
   "metadata": {},
   "source": [
    "This seems to be the case. Now we will investigate the behavior $ \\lim_{x_0 \\to 1} $ as it seems to be the same behavior as $ \\lim_{x_0 \\to 0} $. For now, we will only look at the last function. My hypothesis is that the $x_0$ factor is a scaling factor; the closer it gets to 1 or 0, the slower it reaches its limit.\n",
    "Below: Proof. This does indeed seem to be the case."
   ]
  },
  {
   "cell_type": "code",
   "execution_count": null,
   "metadata": {
    "collapsed": false
   },
   "outputs": [],
   "source": [
    "#for x0 = .85\n",
    "plt.plot(xList,p1.sequence(.85, 3.5),'b.')\n",
    "plt.show()\n",
    "#for x0 = .9\n",
    "plt.plot(xList,p1.sequence(.9, 3.5),'r.')\n",
    "plt.show()\n",
    "#for x0 = .95\n",
    "plt.plot(xList,p1.sequence(.94, 3.5),'g.')\n",
    "plt.show()"
   ]
  },
  {
   "cell_type": "markdown",
   "metadata": {},
   "source": [
    "### Problem 2\n",
    "\n",
    "We now investigate the same sequence, now with r =  3.5441, 3.5699, and 3.57, and $x_0$ = .5"
   ]
  },
  {
   "cell_type": "code",
   "execution_count": 5,
   "metadata": {
    "collapsed": false
   },
   "outputs": [
    {
     "data": {
      "image/png": "[encoded data removed]",
      "text/plain": [
       "<matplotlib.figure.Figure at 0x7ff61db80750>"
      ]
     },
     "metadata": {},
     "output_type": "display_data"
    },
    {
     "data": {
      "image/png": "[encoded data removed]",
      "text/plain": [
       "<matplotlib.figure.Figure at 0x7ff61b63ead0>"
      ]
     },
     "metadata": {},
     "output_type": "display_data"
    },
    {
     "data": {
      "image/png": "[encoded data removed]",
      "text/plain": [
       "<matplotlib.figure.Figure at 0x7ff61b5e6cd0>"
      ]
     },
     "metadata": {},
     "output_type": "display_data"
    }
   ],
   "source": [
    "plt.plot(xList,p1.sequence(.5, 3.5441),'r.')\n",
    "plt.show()\n",
    "plt.plot(xList,p1.sequence(.5, 3.5699),'g.')\n",
    "plt.show()\n",
    "plt.plot(xList,p1.sequence(.5, 3.57),'b.')\n",
    "plt.show()"
   ]
  },
  {
   "cell_type": "markdown",
   "metadata": {
    "collapsed": true
   },
   "source": [
    "Wow. I had not even remoteley anticipated this behavior. It seems that the higher that r climbs, the more seperate values the sequence approaches and the slower the values are reached. Let's at least attempt to verify this with taking $x_0$ to $x_{500}$ this time with r = 3.5441."
   ]
  },
  {
   "cell_type": "code",
   "execution_count": null,
   "metadata": {
    "collapsed": false
   },
   "outputs": [],
   "source": [
    "xList500 = np.arange(501)\n",
    "plt.plot(xList500,p1.sequence(.5, 3.5441, 500),'r.')\n",
    "plt.show()\n",
    "print \"x seems to approach {:.20e}\".format(p1.sequence(.5,3.5441,500)[496])\n",
    "print \"x seems to approach {:.20e}\".format(p1.sequence(.5,3.5441,500)[497])\n",
    "print \"x seems to approach {:.20e}\".format(p1.sequence(.5,3.5441,500)[498])\n",
    "print \"x seems to approach {:.20e}\".format(p1.sequence(.5,3.5441,500)[499])\n",
    "print \"x seems to approach {:.20e}\".format(p1.sequence(.5,3.5441,500)[500])\n"
   ]
  },
  {
   "cell_type": "code",
   "execution_count": null,
   "metadata": {
    "collapsed": false
   },
   "outputs": [],
   "source": [
    "#now with 1000 values and r = 3.57\n",
    "xList1000 = np.arange(1001)\n",
    "plt.plot(xList1000,p1.sequence(.5, 3.57, 1000),'b.')\n",
    "plt.show()"
   ]
  },
  {
   "cell_type": "markdown",
   "metadata": {},
   "source": [
    "So what seems to be going on? Like I said, the number of approached points seems to increase with the value of r, but it ends up being very specific what that they approach. In regards to $x_0$, the closer it is to .5, the faster the function seems to approach those values."
   ]
  },
  {
   "cell_type": "code",
   "execution_count": 4,
   "metadata": {
    "collapsed": false
   },
   "outputs": [
    {
     "data": {
      "image/png": "[encoded data removed]",
      "text/plain": [
       "<matplotlib.figure.Figure at 0x7ff61db80610>"
      ]
     },
     "metadata": {},
     "output_type": "display_data"
    },
    {
     "data": {
      "image/png": "[encoded data removed]",
      "text/plain": [
       "<matplotlib.figure.Figure at 0x7ff61b8e9090>"
      ]
     },
     "metadata": {},
     "output_type": "display_data"
    },
    {
     "data": {
      "image/png": "[encoded data removed]",
      "text/plain": [
       "<matplotlib.figure.Figure at 0x7ff61b787e10>"
      ]
     },
     "metadata": {},
     "output_type": "display_data"
    }
   ],
   "source": [
    "plt.plot(xList,p1.sequence(.4, 3.5441),'r.')\n",
    "plt.show()\n",
    "plt.plot(xList,p1.sequence(.3, 3.5441),'g.')\n",
    "plt.show()\n",
    "plt.plot(xList,p1.sequence(.2, 3.5441),'b.')\n",
    "plt.show()"
   ]
  },
  {
   "cell_type": "markdown",
   "metadata": {},
   "source": [
    "As we can see, as $x_0$ leaves .5, the function converges slower and slower."
   ]
  },
  {
   "cell_type": "markdown",
   "metadata": {},
   "source": [
    "## Problem 3\n",
    "Problem 3 is implemented below (it takes a bit of time to run). The findings will be discussed in Problem 4."
   ]
  },
  {
   "cell_type": "code",
   "execution_count": 3,
   "metadata": {
    "collapsed": false
   },
   "outputs": [
    {
     "name": "stdout",
     "output_type": "stream",
     "text": [
      "r = 2.901\n",
      "r = 2.911\n",
      "r = 2.921\n",
      "r = 2.931\n",
      "r = 2.941\n",
      "r = 2.951\n",
      "r = 2.961\n",
      "r = 2.971\n",
      "r = 2.981\n",
      "r = 2.991\n",
      "r = 3.001\n",
      "r = 3.011\n",
      "r = 3.021\n",
      "r = 3.031\n",
      "r = 3.041\n",
      "r = 3.051\n",
      "r = 3.061\n",
      "r = 3.071\n",
      "r = 3.081\n",
      "r = 3.091\n",
      "r = 3.101\n",
      "r = 3.111\n",
      "r = 3.121\n",
      "r = 3.131\n",
      "r = 3.141\n",
      "r = 3.151\n",
      "r = 3.161\n",
      "r = 3.171\n",
      "r = 3.181\n",
      "r = 3.191\n",
      "r = 3.201\n",
      "r = 3.211\n",
      "r = 3.221\n",
      "r = 3.231\n",
      "r = 3.241\n",
      "r = 3.251\n",
      "r = 3.261\n",
      "r = 3.271\n",
      "r = 3.281\n",
      "r = 3.291\n",
      "r = 3.301\n",
      "r = 3.311\n",
      "r = 3.321\n",
      "r = 3.331\n",
      "r = 3.341\n",
      "r = 3.351\n",
      "r = 3.361\n",
      "r = 3.371\n",
      "r = 3.381\n",
      "r = 3.391\n",
      "r = 3.401\n",
      "r = 3.411\n",
      "r = 3.421\n",
      "r = 3.431\n",
      "r = 3.441\n",
      "r = 3.451\n",
      "r = 3.461\n",
      "r = 3.471\n",
      "r = 3.481\n",
      "r = 3.491\n",
      "r = 3.501\n",
      "r = 3.511\n",
      "r = 3.521\n",
      "r = 3.531\n",
      "r = 3.541\n",
      "r = 3.551\n",
      "r = 3.561\n",
      "r = 3.571\n",
      "r = 3.581\n",
      "r = 3.591\n",
      "r = 3.601\n",
      "r = 3.611\n",
      "r = 3.621\n",
      "r = 3.631\n",
      "r = 3.641\n",
      "r = 3.651\n",
      "r = 3.661\n",
      "r = 3.671\n",
      "r = 3.681\n",
      "r = 3.691\n",
      "r = 3.701\n",
      "r = 3.711\n",
      "r = 3.721\n",
      "r = 3.731\n",
      "r = 3.741\n",
      "r = 3.751\n",
      "r = 3.761\n",
      "r = 3.771\n",
      "r = 3.781\n",
      "r = 3.791\n",
      "r = 3.801\n",
      "r = 3.811\n",
      "r = 3.821\n",
      "r = 3.831\n",
      "r = 3.841\n",
      "r = 3.851\n",
      "r = 3.861\n",
      "r = 3.871\n",
      "r = 3.881\n",
      "r = 3.891\n",
      "r = 3.901\n",
      "r = 3.911\n",
      "r = 3.921\n",
      "r = 3.931\n",
      "r = 3.941\n",
      "r = 3.951\n",
      "r = 3.961\n",
      "r = 3.971\n",
      "r = 3.981\n",
      "r = 3.991\n",
      "r = 4.001\n"
     ]
    },
    {
     "name": "stderr",
     "output_type": "stream",
     "text": [
      "midterm.py:26: RuntimeWarning: overflow encountered in double_scalars\n",
      "  yList[i] = r * yList[i-1] * (1 - yList[i-1])\n"
     ]
    },
    {
     "data": {
      "image/png": "[encoded data removed]",
      "text/plain": [
       "<matplotlib.figure.Figure at 0x7f8414749250>"
      ]
     },
     "metadata": {},
     "output_type": "display_data"
    }
   ],
   "source": [
    "vectorized_plot = np.vectorize(p1.plotAsymtoticValues)\n",
    "r = np.arange(2.9, 4.001, .001)\n",
    "vectorized_plot(.5, r, 100, 130)\n",
    "plt.show()\n",
    "#periodic values of r are printed to keep track of progress\n",
    "    "
   ]
  },
  {
   "cell_type": "markdown",
   "metadata": {
    "collapsed": true
   },
   "source": [
    "## Problem 4\n",
    "Wow. This graph ended up looking way more bizzare than I would have imagined. If it hasn't loaded for you yet, I took a screenshot of it when fully loaded with more liberal values for N.\n",
    "\n",
    "<img src=\"Screen Shot Midterm.png\">\n",
    "\n",
    "Even in this case where N was scaled down to 130, and a mesh of .0001 was used instead of .00001, double overflow occured (the probable reason for the big gap of values at r = 3.84).\n",
    "So what seems to be happening here? As r increases from 2.9, the asymtotic value first increases at a linear rate. However, at r = 3, we seem to have a split - the single asymtotic value breaks off into 2, which increase and decrease with r respectively. However, we seem to have another split in both values at $ r \\approx 3.43$, and then once again at $ r \\approx 3.55$. Infact, the values seem to be spliting at an increasing rate. Infact, below - we can see that the amount of asymtotes seems to follow a $\\frac{1}{x}$ curve; increasing until the asymtote r = 4, where the values become \"undefined\" (or 0).\n",
    "\n",
    "\n"
   ]
  },
  {
   "cell_type": "code",
   "execution_count": 20,
   "metadata": {
    "collapsed": false
   },
   "outputs": [
    {
     "data": {
      "image/png": "[encoded data removed]",
      "text/plain": [
       "<matplotlib.figure.Figure at 0x7ff61b926a10>"
      ]
     },
     "metadata": {},
     "output_type": "display_data"
    }
   ],
   "source": [
    "plt.plot(xList,p1.sequence(.5, 3.9),'y.')\n",
    "plt.plot(xList,p1.sequence(.5,3.99), 'g.')\n",
    "plt.plot(xList,p1.sequence(.5, 3.99999),'b.')\n",
    "plt.plot(xList,p1.sequence(.5, 4),'r.')\n",
    "plt.show()"
   ]
  },
  {
   "cell_type": "code",
   "execution_count": null,
   "metadata": {
    "collapsed": true
   },
   "outputs": [],
   "source": []
  }
 ],
 "metadata": {
  "kernelspec": {
   "display_name": "Python 2 (SageMath)",
   "language": "python",
   "name": "python2"
  },
  "language_info": {
   "codemirror_mode": {
    "name": "ipython",
    "version": 2
   },
   "file_extension": ".py",
   "mimetype": "text/x-python",
   "name": "python",
   "nbconvert_exporter": "python",
   "pygments_lexer": "ipython2",
   "version": "2.7.10"
  },
  "name": "Midterm.ipynb"
 },
 "nbformat": 4,
 "nbformat_minor": 0
}
